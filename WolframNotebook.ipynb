{
 "cells": [
  {
   "cell_type": "code",
   "execution_count": null,
   "metadata": {},
   "outputs": [],
   "source": [
    "ClearAll[\"Global`*\"]"
   ]
  },
  {
   "cell_type": "code",
   "execution_count": null,
   "metadata": {},
   "outputs": [],
   "source": [
    "c = ColorData[97, \"ColorList\"]"
   ]
  },
  {
   "cell_type": "code",
   "execution_count": null,
   "metadata": {},
   "outputs": [],
   "source": [
    "c[[{1}]]"
   ]
  },
  {
   "cell_type": "markdown",
   "metadata": {},
   "source": [
    "## $\\omega$ at equilibrium"
   ]
  },
  {
   "cell_type": "code",
   "execution_count": null,
   "metadata": {},
   "outputs": [],
   "source": [
    "S[x_, K_] := -Log[(1-x)/x] - Log[K-1]"
   ]
  },
  {
   "cell_type": "code",
   "execution_count": null,
   "metadata": {},
   "outputs": [],
   "source": [
    "w[x_, K_] = (1-x)*S[x, K]/(1-Exp[-S[x, K]])-x/(K-1)*S[x, K]/(1-Exp[S[x, K]]) + x *(K-2)/(K-1) // FullSimplify "
   ]
  },
  {
   "cell_type": "code",
   "execution_count": null,
   "metadata": {
    "scrolled": false
   },
   "outputs": [],
   "source": [
    "Plot[{w[x, 2], w[x, 4], w[x, 8], w[x, 16]}, {x, 0, 1},\n",
    "    PlotLegends -> {\"K=2\", \"K=4\", \"K=8\", \"K=16\"}, AxesLabel -> {\"x\", \"ω\"}]"
   ]
  },
  {
   "cell_type": "code",
   "execution_count": null,
   "metadata": {},
   "outputs": [],
   "source": [
    "Export[\"manuscript/artworks/wolfram_omega_x.pdf\", %]"
   ]
  },
  {
   "cell_type": "code",
   "execution_count": null,
   "metadata": {
    "scrolled": true
   },
   "outputs": [],
   "source": [
    "Series[w[x, K], {x, 0, 1}] // FullSimplify"
   ]
  },
  {
   "cell_type": "code",
   "execution_count": null,
   "metadata": {},
   "outputs": [],
   "source": [
    "NSolve[w[x, 2] == 1 && 0 < x && x < 1, x]"
   ]
  },
  {
   "cell_type": "code",
   "execution_count": null,
   "metadata": {},
   "outputs": [],
   "source": [
    "NSolve[w[x, 3] == 1 && 0 < x && x < 1, x]"
   ]
  },
  {
   "cell_type": "code",
   "execution_count": null,
   "metadata": {},
   "outputs": [],
   "source": [
    "NSolve[w[x, 4] == 1 && 0 < x && x < 1, x]"
   ]
  },
  {
   "cell_type": "code",
   "execution_count": null,
   "metadata": {},
   "outputs": [],
   "source": [
    "NSolve[w[x, 8] == 1 && 0 < x && x < 1, x]"
   ]
  },
  {
   "cell_type": "code",
   "execution_count": null,
   "metadata": {
    "scrolled": true
   },
   "outputs": [],
   "source": [
    "w[(K-1)/K, K] // ExpandAll"
   ]
  },
  {
   "cell_type": "code",
   "execution_count": null,
   "metadata": {},
   "outputs": [],
   "source": [
    "wSerieOpt[x_, K_] = Series[w[x, K], {x, (K-1)/K, 2}] // FullSimplify"
   ]
  },
  {
   "cell_type": "code",
   "execution_count": null,
   "metadata": {},
   "outputs": [],
   "source": [
    "Plot[{w[x, 2], wSerieOpt[x, 2] // Normal // Evaluate, w[x, 4], wSerieOpt[x, 4] // Normal // Evaluate}, {x, 0, 1},\n",
    "    PlotLegends -> {\"K=2\", \"Approximation K=2\", \"K=4\", \"Approximation K=4\"}, AxesLabel -> {\"x\", \"ω\"},\n",
    "    PlotStyle -> {{Solid,c[[{1}]], Thick}, {Dashed,c[[{1}]]}, {Solid,c[[{2}]], Thick}, {Dashed,c[[{2}]]}}]"
   ]
  },
  {
   "cell_type": "code",
   "execution_count": null,
   "metadata": {},
   "outputs": [],
   "source": [
    "Export[\"manuscript/artworks/wolfram_omega_x_approx.pdf\", %]"
   ]
  },
  {
   "cell_type": "code",
   "execution_count": null,
   "metadata": {
    "scrolled": false
   },
   "outputs": [],
   "source": [
    "dw[x_, K_] = D[w[x, K], x] // FullSimplify"
   ]
  },
  {
   "cell_type": "code",
   "execution_count": null,
   "metadata": {},
   "outputs": [],
   "source": [
    "dw[x, K] - (K-2) / (K-1) // FullSimplify"
   ]
  },
  {
   "cell_type": "code",
   "execution_count": null,
   "metadata": {
    "scrolled": true
   },
   "outputs": [],
   "source": [
    "Plot[{dw[x, 2], dw[x, 4], dw[x, 8], dw[x, 16]}, {x, 0, 1},\n",
    "    PlotLegends -> {\"K=2\", \"K=4\", \"K=8\", \"K=16\"}, AxesLabel -> {\"x\", \"dω/dx\"}]"
   ]
  },
  {
   "cell_type": "code",
   "execution_count": null,
   "metadata": {
    "scrolled": true
   },
   "outputs": [],
   "source": [
    "Export[\"manuscript/artworks/wolfram_domegadx_x.pdf\", %]"
   ]
  },
  {
   "cell_type": "code",
   "execution_count": null,
   "metadata": {},
   "outputs": [],
   "source": [
    "NSolve[dw[x, 2] == 0 && 0 < x && x < 1, x]"
   ]
  },
  {
   "cell_type": "code",
   "execution_count": null,
   "metadata": {},
   "outputs": [],
   "source": [
    "NSolve[dw[x, 3] == 0 && 0 < x && x < 1, x]"
   ]
  },
  {
   "cell_type": "code",
   "execution_count": null,
   "metadata": {},
   "outputs": [],
   "source": [
    "NSolve[dw[x, 4] == 0 && 0 < x && x < 1, x]"
   ]
  },
  {
   "cell_type": "code",
   "execution_count": null,
   "metadata": {},
   "outputs": [],
   "source": [
    "NSolve[dw[x, 5] == 0 && 0 < x && x < 1, x]"
   ]
  },
  {
   "cell_type": "code",
   "execution_count": null,
   "metadata": {},
   "outputs": [],
   "source": [
    "dw[(K-1)/K, K] // ExpandAll"
   ]
  },
  {
   "cell_type": "code",
   "execution_count": null,
   "metadata": {},
   "outputs": [],
   "source": [
    "Limit[dw[x, K], K -> \\[Infinity]]"
   ]
  },
  {
   "cell_type": "code",
   "execution_count": null,
   "metadata": {},
   "outputs": [],
   "source": [
    "Series[dw[x, K], {x, 0, 1}] // FullSimplify "
   ]
  },
  {
   "cell_type": "code",
   "execution_count": null,
   "metadata": {},
   "outputs": [],
   "source": [
    "dwSerieOpt[x_, K_] = Series[dw[x, K], {x, (K-1)/K, 2}] // FullSimplify "
   ]
  },
  {
   "cell_type": "code",
   "execution_count": null,
   "metadata": {},
   "outputs": [],
   "source": [
    "Plot[{dw[x, 2], dwSerieOpt[x, 2] // Normal // Evaluate, dw[x, 3], dwSerieOpt[x, 3] // Normal // Evaluate}, {x, 0, 1},\n",
    "    PlotLegends -> {\"K=2\", \"Approximation K=2\", \"K=4\", \"Approximation K=4\"}, AxesLabel -> {\"x\", \"dω/dx\"},\n",
    "    PlotStyle -> {{Solid,c[[{1}]], Thick}, {Dashed,c[[{1}]]}, {Solid,c[[{2}]], Thick}, {Dashed,c[[{2}]]}}]"
   ]
  },
  {
   "cell_type": "code",
   "execution_count": null,
   "metadata": {},
   "outputs": [],
   "source": [
    "Export[\"manuscript/artworks/wolfram_domegadx_x_approx.pdf\", %]"
   ]
  }
 ],
 "metadata": {
  "kernelspec": {
   "display_name": "Wolfram Language 12",
   "language": "Wolfram Language",
   "name": "wolframlanguage12"
  },
  "language_info": {
   "codemirror_mode": "mathematica",
   "file_extension": ".m",
   "mimetype": "application/vnd.wolfram.m",
   "name": "Wolfram Language",
   "pygments_lexer": "mathematica",
   "version": "12.0"
  }
 },
 "nbformat": 4,
 "nbformat_minor": 4
}
